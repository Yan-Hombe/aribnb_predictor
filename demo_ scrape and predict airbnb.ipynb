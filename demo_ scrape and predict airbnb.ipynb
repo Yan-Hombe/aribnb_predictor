{
 "cells": [
  {
   "attachments": {},
   "cell_type": "markdown",
   "metadata": {},
   "source": [
    "# Download data from airbnb (insideairbnb) and make predictions based on it\n",
    "\n",
    "# Introduction\n",
    "This Jupyter notebook guides you through the process of downloading Airbnb data and using the data to make some predictions. The data we will be using is sourced from the Inside Airbnb project and can be accessed at the following URL: [Inside Airbnb Data](http://insideairbnb.com/get-the-data.html). In addition you can use the file to make some longitude and latitude requests on the google API.\n",
    "\n",
    "The functions needed to scrape and process the data, as well as make predictions, are all stored in the Python file \"scrape_and_predict_functions.py\". This notebook makes use of all the functions from this file, but depending on your specific requirements, you may choose to use only certain parts. To ensure proper functioning, please ensure that the \"scrape_and_predict_functions.py\" file is in the same directory as this notebook.\n",
    "\n",
    "## Note\n",
    "\n",
    "Running this notebook will create several folders in your current working directory. Be aware of this to prevent any unwanted clutter or overwriting of existing folders or files.\n",
    "\n",
    "## Table of Contents\n",
    "\n",
    "* [1. Scraping the Data](#1.-Scraping-the-Data)\n",
    "* [2. Clean and Merge the Data](#2.-Clean-and-Merge-the-Data)\n",
    "* [3. Prediction](#3.-Prediction)\n",
    "* [4. Get Input for Prediction](#4.-Get-Input-for-Prediction)\n"
   ]
  },
  {
   "cell_type": "code",
   "execution_count": 1,
   "metadata": {},
   "outputs": [],
   "source": [
    "# import the needed packages\n",
    "import scrape_and_predict_functions as spf\n",
    "import os"
   ]
  },
  {
   "attachments": {},
   "cell_type": "markdown",
   "metadata": {},
   "source": [
    "## 1. Scraping the Data\n",
    "First we need to scrape the data from the website and save it in the wanted location \n",
    "to later use it for predictions. Therefore we extract the needed links from the website. We then use this links to creat a download request. Finally we store them in a folder. Keep in minde that the downloaded files are in .gz format which is a compressed csv file. In order to keep the computational and download recourses low we will restrict the scraped data to the cities of amsterdam and antwerp."
   ]
  },
  {
   "cell_type": "code",
   "execution_count": 2,
   "metadata": {},
   "outputs": [],
   "source": [
    "# get all links from website which lead to the data files there are roughly 120 links\n",
    "# need internet connection because it scrapes (requests) the website\n",
    "csv_links = spf.get_links()\n",
    "\n",
    "\n",
    "# filter out only the cities you want to scrape\n",
    "# define which cities you want to download\n",
    "cities = ['amsterdam', 'antwerp']\n",
    "\n",
    "# get the link for the cities you want to scrape. They are from the scraped list of links csv_links\n",
    "csv_links = spf.get_links_certain_city(csv_links, cities)"
   ]
  },
  {
   "cell_type": "code",
   "execution_count": 3,
   "metadata": {},
   "outputs": [
    {
     "name": "stdout",
     "output_type": "stream",
     "text": [
      "Downloaded: the-netherlands_north-holland_amsterdam.csv.gz\n",
      "Downloaded: belgium_vlg_antwerp.csv.gz\n"
     ]
    }
   ],
   "source": [
    "# Create a folder to store the downloaded compressed .csv.gz files. The csv.gz contain all the scraped airbnb data\n",
    "os.makedirs('csv_files_airbnb_csv_gz', exist_ok=True)\n",
    "\n",
    "# download the files and save them in a folder with compressed .csv.gz files\n",
    "spf.download_csv_save_in_folder(csv_links, 'csv_files_airbnb_csv_gz')"
   ]
  },
  {
   "attachments": {},
   "cell_type": "markdown",
   "metadata": {},
   "source": [
    "## 2. Clean and Merge the Data\n",
    "Now that we downloaded the data files we are going to extract the csv.gz file and save it as a simple .csv file. Moreover, we want to merge the file into a single dataframe in order to clean, select and tranform the data and later on do the trianing of the prediction model with it."
   ]
  },
  {
   "cell_type": "code",
   "execution_count": 4,
   "metadata": {},
   "outputs": [
    {
     "name": "stdout",
     "output_type": "stream",
     "text": [
      "Extracted: csv_files_airbnb_extracted_csv\\belgium_vlg_antwerp.csv\n",
      "Extracted: csv_files_airbnb_extracted_csv\\the-netherlands_north-holland_amsterdam.csv\n"
     ]
    }
   ],
   "source": [
    "# create a folder to store the extracted files\n",
    "os.makedirs('csv_files_airbnb_extracted_csv', exist_ok=True)\n",
    "\n",
    "# extract the files from the compressed .csv.gz files and save them in a folder with extracted .csv files\n",
    "spf.extract_gz_from_to('csv_files_airbnb_csv_gz', 'csv_files_airbnb_extracted_csv')"
   ]
  },
  {
   "cell_type": "code",
   "execution_count": 5,
   "metadata": {},
   "outputs": [
    {
     "data": {
      "text/html": [
       "<div>\n",
       "<style scoped>\n",
       "    .dataframe tbody tr th:only-of-type {\n",
       "        vertical-align: middle;\n",
       "    }\n",
       "\n",
       "    .dataframe tbody tr th {\n",
       "        vertical-align: top;\n",
       "    }\n",
       "\n",
       "    .dataframe thead th {\n",
       "        text-align: right;\n",
       "    }\n",
       "</style>\n",
       "<table border=\"1\" class=\"dataframe\">\n",
       "  <thead>\n",
       "    <tr style=\"text-align: right;\">\n",
       "      <th></th>\n",
       "      <th>id</th>\n",
       "      <th>listing_url</th>\n",
       "      <th>scrape_id</th>\n",
       "      <th>last_scraped</th>\n",
       "      <th>source</th>\n",
       "      <th>name</th>\n",
       "      <th>description</th>\n",
       "      <th>neighborhood_overview</th>\n",
       "      <th>picture_url</th>\n",
       "      <th>host_id</th>\n",
       "      <th>...</th>\n",
       "      <th>license</th>\n",
       "      <th>instant_bookable</th>\n",
       "      <th>calculated_host_listings_count</th>\n",
       "      <th>calculated_host_listings_count_entire_homes</th>\n",
       "      <th>calculated_host_listings_count_private_rooms</th>\n",
       "      <th>calculated_host_listings_count_shared_rooms</th>\n",
       "      <th>reviews_per_month</th>\n",
       "      <th>country</th>\n",
       "      <th>region</th>\n",
       "      <th>city</th>\n",
       "    </tr>\n",
       "  </thead>\n",
       "  <tbody>\n",
       "    <tr>\n",
       "      <th>0</th>\n",
       "      <td>50904</td>\n",
       "      <td>https://www.airbnb.com/rooms/50904</td>\n",
       "      <td>20230329174650</td>\n",
       "      <td>2023-03-29</td>\n",
       "      <td>city scrape</td>\n",
       "      <td>aplace/antwerp: cosy suite - fashion district</td>\n",
       "      <td>Decorated in a vintage style combined with a f...</td>\n",
       "      <td>NaN</td>\n",
       "      <td>https://a0.muscache.com/pictures/f14b0908-cbc3...</td>\n",
       "      <td>234077</td>\n",
       "      <td>...</td>\n",
       "      <td>NaN</td>\n",
       "      <td>0</td>\n",
       "      <td>4</td>\n",
       "      <td>2</td>\n",
       "      <td>0</td>\n",
       "      <td>0</td>\n",
       "      <td>0.03</td>\n",
       "      <td>belgium</td>\n",
       "      <td>vlg</td>\n",
       "      <td>antwerp</td>\n",
       "    </tr>\n",
       "    <tr>\n",
       "      <th>1</th>\n",
       "      <td>116134</td>\n",
       "      <td>https://www.airbnb.com/rooms/116134</td>\n",
       "      <td>20230329174650</td>\n",
       "      <td>2023-03-29</td>\n",
       "      <td>city scrape</td>\n",
       "      <td>Spacious apartment nearby Mas</td>\n",
       "      <td>Enjoy your stay at our 4 person apartment in t...</td>\n",
       "      <td>The area \"`t eilandje\" is located at the old h...</td>\n",
       "      <td>https://a0.muscache.com/pictures/23732573/0708...</td>\n",
       "      <td>586942</td>\n",
       "      <td>...</td>\n",
       "      <td>NaN</td>\n",
       "      <td>0</td>\n",
       "      <td>1</td>\n",
       "      <td>1</td>\n",
       "      <td>0</td>\n",
       "      <td>0</td>\n",
       "      <td>1.09</td>\n",
       "      <td>belgium</td>\n",
       "      <td>vlg</td>\n",
       "      <td>antwerp</td>\n",
       "    </tr>\n",
       "    <tr>\n",
       "      <th>2</th>\n",
       "      <td>224682</td>\n",
       "      <td>https://www.airbnb.com/rooms/224682</td>\n",
       "      <td>20230329174650</td>\n",
       "      <td>2023-03-29</td>\n",
       "      <td>city scrape</td>\n",
       "      <td>APARTMENT ROSCAM - OLD CENTRE ANTWERP</td>\n",
       "      <td>&lt;b&gt;The space&lt;/b&gt;&lt;br /&gt;Apartment \"Roscam\" is a ...</td>\n",
       "      <td>There is a paid parking lot around the corner....</td>\n",
       "      <td>https://a0.muscache.com/pictures/cc82d1b9-ec82...</td>\n",
       "      <td>1263933</td>\n",
       "      <td>...</td>\n",
       "      <td>NaN</td>\n",
       "      <td>0</td>\n",
       "      <td>1</td>\n",
       "      <td>1</td>\n",
       "      <td>0</td>\n",
       "      <td>0</td>\n",
       "      <td>3.48</td>\n",
       "      <td>belgium</td>\n",
       "      <td>vlg</td>\n",
       "      <td>antwerp</td>\n",
       "    </tr>\n",
       "    <tr>\n",
       "      <th>3</th>\n",
       "      <td>345959</td>\n",
       "      <td>https://www.airbnb.com/rooms/345959</td>\n",
       "      <td>20230329174650</td>\n",
       "      <td>2023-03-29</td>\n",
       "      <td>city scrape</td>\n",
       "      <td>Marleen's home in Antwerp city</td>\n",
       "      <td>your entire, private groundfloor 2-bedroom apa...</td>\n",
       "      <td>leuke residentiële buurt</td>\n",
       "      <td>https://a0.muscache.com/pictures/11642662/f9b6...</td>\n",
       "      <td>1754396</td>\n",
       "      <td>...</td>\n",
       "      <td>NaN</td>\n",
       "      <td>0</td>\n",
       "      <td>1</td>\n",
       "      <td>1</td>\n",
       "      <td>0</td>\n",
       "      <td>0</td>\n",
       "      <td>0.63</td>\n",
       "      <td>belgium</td>\n",
       "      <td>vlg</td>\n",
       "      <td>antwerp</td>\n",
       "    </tr>\n",
       "    <tr>\n",
       "      <th>4</th>\n",
       "      <td>366252</td>\n",
       "      <td>https://www.airbnb.com/rooms/366252</td>\n",
       "      <td>20230329174650</td>\n",
       "      <td>2023-03-29</td>\n",
       "      <td>city scrape</td>\n",
       "      <td>ROOM IN FAMILY HOME near C. Station</td>\n",
       "      <td>In the Antwerp district of Borgerhout, we live...</td>\n",
       "      <td>we live on the 5th floor on top of a bed store...</td>\n",
       "      <td>https://a0.muscache.com/pictures/miso/Hosting-...</td>\n",
       "      <td>1820186</td>\n",
       "      <td>...</td>\n",
       "      <td>NaN</td>\n",
       "      <td>1</td>\n",
       "      <td>4</td>\n",
       "      <td>0</td>\n",
       "      <td>4</td>\n",
       "      <td>0</td>\n",
       "      <td>1.01</td>\n",
       "      <td>belgium</td>\n",
       "      <td>vlg</td>\n",
       "      <td>antwerp</td>\n",
       "    </tr>\n",
       "  </tbody>\n",
       "</table>\n",
       "<p>5 rows × 78 columns</p>\n",
       "</div>"
      ],
      "text/plain": [
       "       id                          listing_url       scrape_id last_scraped  \\\n",
       "0   50904   https://www.airbnb.com/rooms/50904  20230329174650   2023-03-29   \n",
       "1  116134  https://www.airbnb.com/rooms/116134  20230329174650   2023-03-29   \n",
       "2  224682  https://www.airbnb.com/rooms/224682  20230329174650   2023-03-29   \n",
       "3  345959  https://www.airbnb.com/rooms/345959  20230329174650   2023-03-29   \n",
       "4  366252  https://www.airbnb.com/rooms/366252  20230329174650   2023-03-29   \n",
       "\n",
       "        source                                           name  \\\n",
       "0  city scrape  aplace/antwerp: cosy suite - fashion district   \n",
       "1  city scrape                  Spacious apartment nearby Mas   \n",
       "2  city scrape          APARTMENT ROSCAM - OLD CENTRE ANTWERP   \n",
       "3  city scrape                 Marleen's home in Antwerp city   \n",
       "4  city scrape            ROOM IN FAMILY HOME near C. Station   \n",
       "\n",
       "                                         description  \\\n",
       "0  Decorated in a vintage style combined with a f...   \n",
       "1  Enjoy your stay at our 4 person apartment in t...   \n",
       "2  <b>The space</b><br />Apartment \"Roscam\" is a ...   \n",
       "3  your entire, private groundfloor 2-bedroom apa...   \n",
       "4  In the Antwerp district of Borgerhout, we live...   \n",
       "\n",
       "                               neighborhood_overview  \\\n",
       "0                                                NaN   \n",
       "1  The area \"`t eilandje\" is located at the old h...   \n",
       "2  There is a paid parking lot around the corner....   \n",
       "3                           leuke residentiële buurt   \n",
       "4  we live on the 5th floor on top of a bed store...   \n",
       "\n",
       "                                         picture_url  host_id  ... license  \\\n",
       "0  https://a0.muscache.com/pictures/f14b0908-cbc3...   234077  ...     NaN   \n",
       "1  https://a0.muscache.com/pictures/23732573/0708...   586942  ...     NaN   \n",
       "2  https://a0.muscache.com/pictures/cc82d1b9-ec82...  1263933  ...     NaN   \n",
       "3  https://a0.muscache.com/pictures/11642662/f9b6...  1754396  ...     NaN   \n",
       "4  https://a0.muscache.com/pictures/miso/Hosting-...  1820186  ...     NaN   \n",
       "\n",
       "  instant_bookable calculated_host_listings_count  \\\n",
       "0                0                              4   \n",
       "1                0                              1   \n",
       "2                0                              1   \n",
       "3                0                              1   \n",
       "4                1                              4   \n",
       "\n",
       "  calculated_host_listings_count_entire_homes  \\\n",
       "0                                           2   \n",
       "1                                           1   \n",
       "2                                           1   \n",
       "3                                           1   \n",
       "4                                           0   \n",
       "\n",
       "  calculated_host_listings_count_private_rooms  \\\n",
       "0                                            0   \n",
       "1                                            0   \n",
       "2                                            0   \n",
       "3                                            0   \n",
       "4                                            4   \n",
       "\n",
       "  calculated_host_listings_count_shared_rooms reviews_per_month  country  \\\n",
       "0                                           0              0.03  belgium   \n",
       "1                                           0              1.09  belgium   \n",
       "2                                           0              3.48  belgium   \n",
       "3                                           0              0.63  belgium   \n",
       "4                                           0              1.01  belgium   \n",
       "\n",
       "  region     city  \n",
       "0    vlg  antwerp  \n",
       "1    vlg  antwerp  \n",
       "2    vlg  antwerp  \n",
       "3    vlg  antwerp  \n",
       "4    vlg  antwerp  \n",
       "\n",
       "[5 rows x 78 columns]"
      ]
     },
     "execution_count": 5,
     "metadata": {},
     "output_type": "execute_result"
    }
   ],
   "source": [
    "# take the data from the foler with extracted .csv files and put them into a merged dataframe\n",
    "df_merged = spf.convert_csv_to_dataframe_merge('csv_files_airbnb_extracted_csv')\n",
    "\n",
    "# apply some data cleaning such as rounding the long and lat or transforming the price into a float\n",
    "df_merged = spf.data_clean(df_merged, round_long_lat=True)\n",
    "\n",
    "# show the first 5 rows of the dataframe\n",
    "df_merged.head()\n"
   ]
  },
  {
   "attachments": {},
   "cell_type": "markdown",
   "metadata": {},
   "source": [
    "## 3. Prediction\n",
    "Now we have the Dataframe in the right format to make some ML prediction. We will apply a random forest ML approach in order to make the prediction. You can choose the features according to your needs. In this case we will predict the price per night depending on the location and minimum/ maximum nights that the airbnb can be rented, whether the host is available and how many other listings the host has. "
   ]
  },
  {
   "cell_type": "code",
   "execution_count": 6,
   "metadata": {},
   "outputs": [],
   "source": [
    "# for the sake of demonstration we only take a sample of the data in order to speed up the process\n",
    "# only take city of amsterdam in dataframe\n",
    "df_train = df_merged[df_merged['city'] == 'amsterdam']\n",
    "df_train = df_train.sample(frac=0.5, replace=False)\n",
    "\n",
    "\n",
    "# split the data into X (features) and y (outcome)\n",
    "X = df_train[['latitude', 'longitude', 'minimum_nights', \n",
    "               'maximum_nights', 'has_availability', 'host_listings_count']]\n",
    "\n",
    "y = df_train['price']\n",
    "\n",
    "# train the model. Can take a while\n",
    "fitmodel = spf.predict_random_forest(features = X, outcome = y, n_estimators=10, hyperparamopt=False)"
   ]
  },
  {
   "cell_type": "code",
   "execution_count": 7,
   "metadata": {},
   "outputs": [
    {
     "name": "stdout",
     "output_type": "stream",
     "text": [
      "      latitude  longitude  minimum_nights  maximum_nights  has_availability  \\\n",
      "3508     52.35       4.89               3              65                 1   \n",
      "\n",
      "      host_listings_count  \n",
      "3508                    1  \n",
      "the predicted price is [210.7]\n",
      "the actual price is 243.0\n"
     ]
    }
   ],
   "source": [
    "# predict price for a cerain set of features take one observation from the trained data\n",
    "# you can adjust the features to your liking. Please make sure it is a pandas dataframe\n",
    "predict_object = X.sample(n=1)\n",
    "print(predict_object)\n",
    "\n",
    "# predict the price for the observation\n",
    "print(\"the predicted price is\" , fitmodel.predict(predict_object))\n",
    "\n",
    "# show the actual price for the observation\n",
    "print(\"the actual price is\", y.loc[predict_object.index].values[0])"
   ]
  },
  {
   "attachments": {},
   "cell_type": "markdown",
   "metadata": {},
   "source": [
    "## 4. Get Input for Prediction\n",
    "\n",
    "If we only have an adress of the airbnb object we can get the long lat with the help of an google geocoding api. Furthermore, we can the neighborhood (variable of airbnb dataset) of an airbnb object with the input of long lat. In this section we will show you how to do that.  "
   ]
  },
  {
   "cell_type": "code",
   "execution_count": 8,
   "metadata": {},
   "outputs": [],
   "source": [
    "# get long lat with google geocoding api\n",
    "# In order to do this steps you need a functioning google cloud project\n",
    "# as well as a billing account and an enabled geocoding API. \n",
    "# More information here: https://developers.google.com/maps/documentation/elevation/cloud-setup\n",
    "# please note that there could be some costs involved\n",
    "\n",
    "\n",
    "# define API key for google geocoding API. Please enter your own API key\n",
    "api_key = None\n",
    "\n",
    "if api_key is not None:\n",
    "    # get the long and lat of of a certain street through the google maps api\n",
    "    latitude, longitude = spf.get_geocode(\"Javastraat 115I, 1094 HD Amsterdam, Netherlands\", api_key)"
   ]
  },
  {
   "cell_type": "code",
   "execution_count": 9,
   "metadata": {},
   "outputs": [
    {
     "name": "stdout",
     "output_type": "stream",
     "text": [
      "Downloaded: amsterdam.geojson\n",
      "Downloaded: antwerp.geojson\n"
     ]
    }
   ],
   "source": [
    "# find the neighbourhood of a certain city with long and lat input \n",
    "# first we need to get a .geojson file from the airbnb website\n",
    "# they contain multipolygons of the neighbourhoods\n",
    "geojson_links = spf.get_geojson_links()\n",
    "\n",
    "# we again only want to scrape the geojson files for certain cities\n",
    "geojson_links = spf.get_geojson_links_certain_city(geojson_links, cities)\n",
    "\n",
    "# create a folder to store the geojson files\n",
    "os.makedirs('geojson_files', exist_ok=True)\n",
    "\n",
    "# download the geojson files\n",
    "spf.download_geojson_save_in_folder(geojson_links, 'geojson_files')\n"
   ]
  },
  {
   "cell_type": "code",
   "execution_count": 10,
   "metadata": {},
   "outputs": [
    {
     "data": {
      "text/plain": [
       "'Centrum-West'"
      ]
     },
     "execution_count": 10,
     "metadata": {},
     "output_type": "execute_result"
    }
   ],
   "source": [
    "\n",
    "# get the neighbourhood of a certain long and lat input\n",
    "# define longitude and latitude for demonstration\n",
    "input_longitude = df_merged[['longitude', 'latitude']].iloc[2442][0]\n",
    "input_latitude = df_merged[['longitude', 'latitude']].iloc[2442][1]\n",
    "\n",
    "# define the path to the geojson file\n",
    "file_path = 'geojson_files/amsterdam.geojson'\n",
    "\n",
    "# get the neighbourhood in amsterdam\n",
    "neighborhood = spf.get_neighbourhood(input_longitude, input_latitude, file_path)\n",
    "neighborhood"
   ]
  }
 ],
 "metadata": {
  "kernelspec": {
   "display_name": "Python 3",
   "language": "python",
   "name": "python3"
  },
  "language_info": {
   "codemirror_mode": {
    "name": "ipython",
    "version": 3
   },
   "file_extension": ".py",
   "mimetype": "text/x-python",
   "name": "python",
   "nbconvert_exporter": "python",
   "pygments_lexer": "ipython3",
   "version": "3.10.10"
  },
  "orig_nbformat": 4
 },
 "nbformat": 4,
 "nbformat_minor": 2
}
